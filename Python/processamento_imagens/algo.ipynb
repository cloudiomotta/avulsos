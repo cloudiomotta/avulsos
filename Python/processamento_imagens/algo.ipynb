{
 "cells": [
  {
   "cell_type": "code",
   "execution_count": null,
   "metadata": {},
   "outputs": [],
   "source": [
    "from PIL import Image\n",
    "from time import strftime\n",
    "from pathlib import Path\n",
    "\n",
    "arquivo = \"\""
   ]
  }
 ],
 "metadata": {
  "kernelspec": {
   "display_name": "Python 3.10.8 64-bit",
   "language": "python",
   "name": "python3"
  },
  "language_info": {
   "codemirror_mode": {
    "name": "ipython",
    "version": 3
   },
   "file_extension": ".py",
   "mimetype": "text/x-python",
   "name": "python",
   "nbconvert_exporter": "python",
   "pygments_lexer": "ipython3",
   "version": "3.10.8"
  },
  "orig_nbformat": 4,
  "vscode": {
   "interpreter": {
    "hash": "f06ed0f049005ad01211b9818b4298730296455b708e8be9a21a029e50ae1ba1"
   }
  }
 },
 "nbformat": 4,
 "nbformat_minor": 2
}
